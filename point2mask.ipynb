{
 "cells": [
  {
   "cell_type": "code",
   "execution_count": 51,
   "metadata": {},
   "outputs": [],
   "source": [
    "import cv2\n",
    "import os\n",
    "import matplotlib.pyplot as plt\n",
    "from skimage.feature import peak_local_max\n",
    "from skimage.morphology import watershed\n",
    "from scipy import ndimage\n",
    "import numpy as np\n",
    "from copy import copy\n",
    "import math\n",
    "import traceback\n",
    "import matplotlib.pyplot as plt\n",
    "import random\n",
    "from skimage import transform"
   ]
  },
  {
   "cell_type": "code",
   "execution_count": 2,
   "metadata": {},
   "outputs": [],
   "source": [
    "%matplotlib inline"
   ]
  },
  {
   "cell_type": "code",
   "execution_count": 3,
   "metadata": {},
   "outputs": [],
   "source": [
    "def middle(cnt):\n",
    "    M = cv2.moments(cnt)\n",
    "    if M['m00'] == 0:\n",
    "        return (0, 0)\n",
    "    cx = int(M['m10']/M['m00'])\n",
    "    cy = int(M['m01']/M['m00'])\n",
    "    return (cx, cy)\n",
    "\n",
    "def from_label(label_img):\n",
    "    \"\"\"Read one labeled image, and save the interested location.\n",
    "    label_img (str), the path of a labeled image.\"\"\"\n",
    "    hsv = cv2.cvtColor(label_img, cv2.COLOR_BGR2HSV)\n",
    "    lower_green = np.array([50,100, 50])\n",
    "    upper_green = np.array([70,255, 255])\n",
    "    mask = cv2.inRange(hsv, lower_green, upper_green)\n",
    "    cnts = cv2.findContours(mask, cv2.RETR_EXTERNAL,cv2.CHAIN_APPROX_SIMPLE)[-2]\n",
    "    points = [middle(cnt) for cnt in cnts]\n",
    "    return points"
   ]
  },
  {
   "cell_type": "code",
   "execution_count": null,
   "metadata": {},
   "outputs": [],
   "source": []
  },
  {
   "cell_type": "code",
   "execution_count": 4,
   "metadata": {},
   "outputs": [],
   "source": [
    "def islabel(point, cnt):\n",
    "    return cv2.pointPolygonTest(cnt, point, True) >= -3"
   ]
  },
  {
   "cell_type": "code",
   "execution_count": 49,
   "metadata": {},
   "outputs": [],
   "source": [
    "def watershed_labels(image):\n",
    "# the lines is adapted from https://www.pyimagesearch.com/2015/11/02/watershed-opencv\n",
    "    shifted = cv2.GaussianBlur(image, (7, 7), 0)\n",
    "    gray = cv2.cvtColor(shifted, cv2.COLOR_BGR2GRAY)\n",
    "    thresh = cv2.threshold(gray, 0, 255, cv2.THRESH_BINARY_INV | cv2.THRESH_OTSU)[1]\n",
    "    \n",
    "    thresh = cv2.erode(thresh, np.ones((7, 7),np.uint8), iterations=2)\n",
    "    \n",
    "    D = ndimage.distance_transform_edt(thresh)\n",
    "    localMax = peak_local_max(D, indices=False, min_distance=5, labels=thresh)\n",
    "    markers = ndimage.label(localMax, structure=np.ones((3, 3)))[0]\n",
    "    labels = watershed(D * (-1), markers, mask=thresh)\n",
    "    return labels, gray.shape\n",
    "\n",
    "def segment(img, label, dst, name):\n",
    "    \"\"\"Segment possibel cells from a large image. Then, based on the labeled image, interested part \n",
    "    and non-interested part are divided into two groups. The small cell images are saved as .png files\n",
    "    under the dst directory.\n",
    "    file (str): the path of a primary image;\n",
    "    lable (str): the path of a labeled image;\n",
    "    dst (str): the path of the output directory.\"\"\"\n",
    "    print(img, label)\n",
    "    image = cv2.resize(cv2.imread(img), (1920, 1440))\n",
    "    label_img = cv2.resize(cv2.imread(label), (1920, 1440))\n",
    "    points = from_label(label_img)\n",
    "    \n",
    "    mask_out = np.zeros(image.shape[:2], np.uint8)\n",
    "    labels, gray_shape = watershed_labels(image)\n",
    "                    \n",
    "    for label in np.unique(labels):\n",
    "        if label == 0:\n",
    "            continue\n",
    "        mask = np.zeros(gray_shape, dtype=\"uint8\")\n",
    "        mask[labels == label] = 255\n",
    "\n",
    "        cnts = cv2.findContours(mask.copy(), cv2.RETR_EXTERNAL,cv2.CHAIN_APPROX_SIMPLE)[-2]\n",
    "        c = max(cnts, key=cv2.contourArea)\n",
    "        if any([islabel(point, c) for point in points]):\n",
    "            cv2.drawContours(mask_out, [c], -1, 255, -1)\n",
    "    \n",
    "    cv2.imwrite(os.path.join(dst ,'{}.png'.format(name)), mask_out)\n",
    "#     plt.figure(dpi=300)\n",
    "#     plt.imshow(image)"
   ]
  },
  {
   "cell_type": "code",
   "execution_count": 6,
   "metadata": {},
   "outputs": [],
   "source": [
    "#  https://agniva.me/scipy/2016/10/25/contour-smoothing.html\n",
    "from scipy.interpolate import splprep, splev\n",
    "def smooth(contour):\n",
    "    x,y = contour.T\n",
    "    # Convert from numpy arrays to normal arrays\n",
    "    x = x.tolist()[0]\n",
    "    y = y.tolist()[0]\n",
    "    # https://docs.scipy.org/doc/scipy-0.14.0/reference/generated/scipy.interpolate.splprep.html\n",
    "    tck, u = splprep([x,y], u=None, s=1.0, per=1)\n",
    "    # https://docs.scipy.org/doc/numpy-1.10.1/reference/generated/numpy.linspace.html\n",
    "    u_new = np.linspace(u.min(), u.max(), 25)\n",
    "    # https://docs.scipy.org/doc/scipy-0.14.0/reference/generated/scipy.interpolate.splev.html\n",
    "    x_new, y_new = splev(u_new, tck, der=0)\n",
    "    # Convert it back to numpy format for opencv to be able to display it\n",
    "    res_array = [[[int(i[0]), int(i[1])]] for i in zip(x_new,y_new)]\n",
    "    return np.asarray(res_array, dtype=np.int32)"
   ]
  },
  {
   "cell_type": "code",
   "execution_count": 41,
   "metadata": {},
   "outputs": [],
   "source": [
    "def couple(base, label):\n",
    "    imgs = [os.path.join(base, f) for f in os.listdir(base)]\n",
    "    labels = dict([(f.split('.')[0].replace('label', ''), os.path.join(label, f)) for f in os.listdir(label)])\n",
    "    for img in imgs:\n",
    "        name = os.path.basename(img).split('.')[0]\n",
    "        yield img, labels[name], name\n",
    "\n",
    "def main(base, label, dst):\n",
    "    os.makedirs(dst, exist_ok=True)\n",
    "    count, nocount = 0, 0\n",
    "    for img, label, name in couple(base, label):\n",
    "        try:\n",
    "            segment(img, label, dst, name)\n",
    "        except:\n",
    "            print(traceback.format_exc())"
   ]
  },
  {
   "cell_type": "code",
   "execution_count": 50,
   "metadata": {},
   "outputs": [
    {
     "name": "stdout",
     "output_type": "stream",
     "text": [
      "../raw/2018-9-5_X007-40-1_ch00.tif .\\2018-9-5_X007-40-1_ch00label.tif\n",
      "../raw/2018-9-5_X009-2-40-1_ch00.tif .\\2018-9-5_X009-2-40-1_ch00label.tif\n",
      "../raw/EOS-340-1-40X.tif .\\EOS-340-1-40Xlabel.tif\n",
      "../raw/EOS-340-2-40X_A.tif .\\EOS-340-2-40X_Alabel.tif\n",
      "../raw/EOS-94-1-40X_A.tif .\\EOS-94-1-40X_Alabel.tif\n",
      "../raw/EOS-96-1-40X.tif .\\EOS-96-1-40Xlabel.tif\n",
      "../raw/EOS-96-2-40X.tif .\\EOS-96-2-40Xlabel.tif\n"
     ]
    }
   ],
   "source": [
    "main('../raw/', '.', '../mask')"
   ]
  },
  {
   "cell_type": "code",
   "execution_count": 53,
   "metadata": {},
   "outputs": [
    {
     "data": {
      "text/plain": [
       "[('../raw/2018-9-5_X007-40-1_ch00.tif',\n",
       "  '../mask/2018-9-5_X007-40-1_ch00.png',\n",
       "  '2018-9-5_X007-40-1_ch00'),\n",
       " ('../raw/2018-9-5_X009-2-40-1_ch00.tif',\n",
       "  '../mask/2018-9-5_X009-2-40-1_ch00.png',\n",
       "  '2018-9-5_X009-2-40-1_ch00'),\n",
       " ('../raw/EOS-340-1-40X.tif', '../mask/EOS-340-1-40X.png', 'EOS-340-1-40X'),\n",
       " ('../raw/EOS-340-2-40X_A.tif',\n",
       "  '../mask/EOS-340-2-40X_A.png',\n",
       "  'EOS-340-2-40X_A'),\n",
       " ('../raw/EOS-94-1-40X_A.tif', '../mask/EOS-94-1-40X_A.png', 'EOS-94-1-40X_A'),\n",
       " ('../raw/EOS-96-1-40X.tif', '../mask/EOS-96-1-40X.png', 'EOS-96-1-40X'),\n",
       " ('../raw/EOS-96-2-40X.tif', '../mask/EOS-96-2-40X.png', 'EOS-96-2-40X')]"
      ]
     },
     "execution_count": 53,
     "metadata": {},
     "output_type": "execute_result"
    }
   ],
   "source": [
    "list(couple('../raw/', '../mask/'))"
   ]
  },
  {
   "cell_type": "code",
   "execution_count": 63,
   "metadata": {},
   "outputs": [],
   "source": [
    "def data_aug(imgs, labels, angel=30, resize_rate=0.9):\n",
    "    for img, label, name in couple(imgs, labels):\n",
    "        image = cv2.imread(img)\n",
    "        label = cv2.imread(label, 0)\n",
    "        for batch in datagen.flow(image, batch_size=1, seed=42): \n",
    "            cv2.imwrite(os.path.join(imgs, 'aug_{}.tif'.format(name)), batch)\n",
    "        for batch in datagen.flow(label, batch_size=1, seed=42):\n",
    "            cv2.imwrite(os.path.join(labels, 'aug_{}.png'.format(name)), batch)"
   ]
  },
  {
   "cell_type": "code",
   "execution_count": null,
   "metadata": {},
   "outputs": [],
   "source": [
    "# Create image generator\n",
    "data_gen_args = dict(rotation_range=5,\n",
    "                     width_shift_range=0.1,\n",
    "                     height_shift_range=0.1,\n",
    "                     validation_split=0.2)\n",
    "image_datagen = ImageDataGenerator(**data_gen_args)\n",
    "\n",
    "seed = 1\n",
    "\n",
    "def XYaugmentGenerator(X1, y, seed, batch_size):\n",
    "    genX1 = gen.flow(X1, y, batch_size=batch_size, seed=seed)\n",
    "    genX2 = gen.flow(y, X1, batch_size=batch_size, seed=seed)\n",
    "    while True:\n",
    "        X1i = genX1.next()\n",
    "        X2i = genX2.next()\n",
    "\n",
    "        yield X1i[0], X2i[0]\n",
    "\n",
    "\n",
    "# Train model\n",
    "model.fit_generator(XYaugmentGenerator(images, masks, seed, batch_size), steps_per_epoch=np.ceil(float(len(images)) / float(batch_size)),\n",
    "                validation_data = XYaugmentGenerator(images_valid, masks_valid, batch_size), \n",
    "                validation_steps = np.ceil(float(len(images_valid)) / float(batch_size))\n",
    ", shuffle=True, epochs=20)"
   ]
  },
  {
   "cell_type": "code",
   "execution_count": 64,
   "metadata": {},
   "outputs": [],
   "source": [
    "data_aug('../raw/','../mask')"
   ]
  }
 ],
 "metadata": {
  "kernelspec": {
   "display_name": "Python 3",
   "language": "python",
   "name": "python3"
  },
  "language_info": {
   "codemirror_mode": {
    "name": "ipython",
    "version": 3
   },
   "file_extension": ".py",
   "mimetype": "text/x-python",
   "name": "python",
   "nbconvert_exporter": "python",
   "pygments_lexer": "ipython3",
   "version": "3.6.7"
  }
 },
 "nbformat": 4,
 "nbformat_minor": 2
}
